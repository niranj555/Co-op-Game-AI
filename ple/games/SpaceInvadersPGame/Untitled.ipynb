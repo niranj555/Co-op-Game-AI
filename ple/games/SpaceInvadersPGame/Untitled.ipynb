{
 "cells": [
  {
   "cell_type": "code",
   "execution_count": 3,
   "metadata": {},
   "outputs": [
    {
     "data": {
      "text/plain": [
       "(6, 0)"
      ]
     },
     "execution_count": 3,
     "metadata": {},
     "output_type": "execute_result"
    }
   ],
   "source": [
    "import pygame\n",
    "pygame.init()"
   ]
  },
  {
   "cell_type": "code",
   "execution_count": null,
   "metadata": {},
   "outputs": [],
   "source": [
    "import pygame, sys, random\n",
    "from pygame.locals import *\n",
    "\n",
    "arr=[]\n",
    "RED=(255,10,10)\n",
    "BLU=(10,255,10)\n",
    "GRN=(10,10,255)\n",
    "arr.append(RED)\n",
    "arr.append(BLU)\n",
    "arr.append(GRN)\n",
    "SCREEN_X=100\n",
    "SCREEN_Y=100\n",
    "\n",
    "screen = pygame.display.set_mode((SCREEN_X, SCREEN_Y))\n",
    "square=pygame.Surface((1, 1))\n",
    "\n",
    "for j in range (SCREEN_Y):\n",
    "    for i in range (SCREEN_X):\n",
    "        num=random.randint(0,2)\n",
    "        square.fill(arr[num])\n",
    "        draw_me=pygame.Rect((j+1), (i+1), 1, 1)\n",
    "        screen.blit(square,draw_me)\n",
    "pygame.display.flip()"
   ]
  },
  {
   "cell_type": "code",
   "execution_count": null,
   "metadata": {},
   "outputs": [],
   "source": []
  }
 ],
 "metadata": {
  "kernelspec": {
   "display_name": "Python 3",
   "language": "python",
   "name": "python3"
  },
  "language_info": {
   "codemirror_mode": {
    "name": "ipython",
    "version": 3
   },
   "file_extension": ".py",
   "mimetype": "text/x-python",
   "name": "python",
   "nbconvert_exporter": "python",
   "pygments_lexer": "ipython3",
   "version": "3.6.4"
  }
 },
 "nbformat": 4,
 "nbformat_minor": 2
}
